{
 "cells": [
  {
   "cell_type": "code",
   "execution_count": 1,
   "metadata": {},
   "outputs": [],
   "source": [
    "import sif_parser\n",
    "import numpy as np\n",
    "import matplotlib.pyplot as plt\n",
    "from matplotlib.colors import LinearSegmentedColormap\n",
    "\n",
    "# These commands make plots look publication quality utilizing the SciencePlots package\n",
    "# https://pypi.org/project/SciencePlots/\n",
    "plt.style.use([\"science\", \"nature\", \"bright\"])\n",
    "plt.rcParams[\"font.family\"] = \"Helvetica\"\n",
    "plt.rcParams[\"font.size\"] = 11\n",
    "\n",
    "# Create a custom color map\n",
    "colors = [\"#FFFFFF\",\"#882E72\",\"#1965B0\",\"#7BAFDE\",\"#4EB265\",\"#CAE0AB\",\"#F7F056\",\"#DC050C\"]\n",
    "my_cmap = LinearSegmentedColormap.from_list(\"cmap_b\", colors)"
   ]
  },
  {
   "cell_type": "code",
   "execution_count": 2,
   "metadata": {},
   "outputs": [],
   "source": [
    "def get_data(filename):\n",
    "    \"\"\"Parses data from a given .sif file\n",
    "    Input:\n",
    "    filename (string): Relative directory of a .sif file\n",
    "\n",
    "    Returns:\n",
    "    image (np.array): 2D array of the raw image\n",
    "    fvb (np.array): 1D spectrum from summing over every column\n",
    "    \"\"\"\n",
    "    data, _ = sif_parser.np_open(filename)\n",
    "    accumulations = 25\n",
    "    image = data[0,:,:] / accumulations\n",
    "    fvb = np.sum(image, axis=0)\n",
    "    # fvb = fvb[100:1024]\n",
    "    fvb = fvb - np.min(fvb)\n",
    "    # don't normalize when comparing relative intensities\n",
    "    # fvb = fvb / np.max(fvb)\n",
    "\n",
    "    return image, fvb"
   ]
  },
  {
   "cell_type": "code",
   "execution_count": 3,
   "metadata": {},
   "outputs": [
    {
     "data": {
      "image/png": "[encoded data removed]",
      "text/plain": "<Figure size 432x72 with 2 Axes>"
     },
     "metadata": {
      "needs_background": "light",
      "transient": {}
     },
     "output_type": "display_data"
    }
   ],
   "source": [
    "# Change this file directory to plot a data set\n",
    "currentfile=\"beamimages/Spectrum_Thu_Nov_10_2022_163505_280torr_2.sif\"\n",
    "\n",
    "current_image, current_spectrum = get_data(currentfile)\n",
    "\n",
    "plt.figure(figsize=(6,1))\n",
    "\n",
    "ax = plt.gca()\n",
    "\n",
    "plt.imshow(current_image[400:550,:], cmap=my_cmap) # can play with indices to crop the diffraction\n",
    "\n",
    "plt.suptitle(f\"{currentfile}\", fontsize=6)\n",
    "plt.colorbar(fraction=0.007, pad=0.02, label=\"Counts\") # can play with fraction to fix colorbar size\n",
    "ax.set_xticklabels([])\n",
    "ax.set_yticklabels([])\n",
    "\n",
    "plt.savefig(\"figures/testsif.jpg\", dpi=800)\n",
    "\n",
    "plt.show()"
   ]
  },
  {
   "cell_type": "code",
   "execution_count": 4,
   "metadata": {},
   "outputs": [
    {
     "data": {
      "image/png": "[encoded data removed]",
      "text/plain": "<Figure size 360x144 with 1 Axes>"
     },
     "metadata": {
      "needs_background": "light",
      "transient": {}
     },
     "output_type": "display_data"
    }
   ],
   "source": [
    "# Plot raw spectrum\n",
    "plt.figure(figsize=(5,2))\n",
    "\n",
    "plt.plot(current_spectrum, color=\"k\")\n",
    "plt.grid(True)\n",
    "\n",
    "# plt.ylabel(\"Intensity (arb)\")\n",
    "plt.ylabel(\"Counts\")\n",
    "plt.xlabel(\"Pixel\")\n",
    "plt.suptitle(f\"{currentfile}\", fontsize=6)\n",
    "# plt.yscale(\"log\")\n",
    "# plt.ylim(0, 1)\n",
    "# plt.xlim(300,1024)\n",
    "# plt.ylim(0.005,1)\n",
    "\n",
    "# plt.savefig(f\"figures/currentfile_spectrum_raw.jpg\", dpi=800)\n",
    "\n",
    "plt.show()"
   ]
  },
  {
   "cell_type": "code",
   "execution_count": 9,
   "metadata": {},
   "outputs": [
    {
     "data": {
      "image/png": "[encoded data removed]",
      "text/plain": "<Figure size 432x144 with 2 Axes>"
     },
     "metadata": {
      "needs_background": "light",
      "transient": {}
     },
     "output_type": "display_data"
    }
   ],
   "source": [
    "# Convert pixels to mm (DC is set to the origin)\n",
    "num_pixels = 1024\n",
    "detector_width_mm = 13.3\n",
    "\n",
    "pixels = np.arange(num_pixels)\n",
    "dc_pixel = np.argmax(current_spectrum)\n",
    "pixel_spacing_mm = detector_width_mm / num_pixels \n",
    "pixels = pixels - dc_pixel\n",
    "distance_from_dc = pixels * pixel_spacing_mm\n",
    "\n",
    "# This fudge factor is a combiation of the 1) distance to the detector and 2) angle of incidence\n",
    "# Play with this until the spectra are 2 fundamental photon energies apart\n",
    "fudge_factor = 260.5\n",
    "\n",
    "# This is basically just the grating equation with the small angle approximation\n",
    "#  E = (stuff) / l\n",
    "energies = fudge_factor / distance_from_dc\n",
    "\n",
    "\n",
    "\n",
    "# Plot\n",
    "plt.figure(figsize=(6,2))\n",
    "\n",
    "# Cut off the DC by starting at a different pixel\n",
    "startingpixel = 350\n",
    "eVs = energies[startingpixel:]\n",
    "intensity = current_spectrum[startingpixel:]\n",
    "\n",
    "# Set lowest pixel value to zero\n",
    "intensity = intensity - np.min(intensity)\n",
    "\n",
    "plt.plot(eVs, intensity, color=\"k\")\n",
    "plt.grid(True)\n",
    "\n",
    "# Label energies of harmonics\n",
    "fund_ev = 1.20373\n",
    "harmonics = np.arange(17, 49, 2) # This is a [ ) list, i.e. (17, 49, 2) will start at 17 and go up to 47\n",
    "harmonic_evs = fund_ev * harmonics\n",
    "plt.xticks(harmonic_evs, [\"%.1f\" % ev for ev in harmonic_evs])\n",
    "plt.xlim(np.min(harmonic_evs), np.max(harmonic_evs))\n",
    "\n",
    "plt.ylabel(\"Counts\")\n",
    "plt.gca().yaxis.set_major_formatter(plt.matplotlib.ticker.StrMethodFormatter('{x:,.0f}'))\n",
    "plt.xlabel(\"Photon energy (eV)\")\n",
    "ax = plt.gca()\n",
    "ax2 = ax.twiny()\n",
    "harmonic_orders = harmonic_evs / fund_ev\n",
    "ax2.set_xticks(np.arange(harmonics.size), [\"%.0f\" % harmonic for harmonic in harmonic_orders])\n",
    "ax2.set_xlabel(\"Harmonic order\")\n",
    "# plt.yscale(\"log\")\n",
    "# plt.ylim(0, 1)\n",
    "# plt.xlim(300,1024)\n",
    "# plt.ylim(0.005,1)\n",
    "# plt.suptitle(\"1030 nm, 1 mJ, 20 kHz, 180 fs, 100 nm Al, 280 torr Ar\")\n",
    "\n",
    "plt.savefig(\"figures/currentfile_spectrum_processed.jpg\", dpi=800)\n",
    "\n",
    "plt.show()"
   ]
  },
  {
   "cell_type": "code",
   "execution_count": 6,
   "metadata": {},
   "outputs": [],
   "source": [
    "# Plot the pressure scan\n",
    "\n",
    "spectrum_file_230torr=\"beamimages/Spectrum_Thu_Nov_10_2022_163959_230torr_2.sif\"\n",
    "spectrum_file_240torr=\"beamimages/Spectrum_Thu_Nov_10_2022_163853_240torr_2.sif\"\n",
    "spectrum_file_250torr=\"beamimages/Spectrum_Thu_Nov_10_2022_163756_250torr_2.sif\"\n",
    "spectrum_file_270torr=\"beamimages/Spectrum_Thu_Nov_10_2022_163404_270torr_2.sif\"\n",
    "spectrum_file_280torr=\"beamimages/Spectrum_Thu_Nov_10_2022_163505_280torr_2.sif\"\n",
    "spectrum_file_290torr=\"beamimages/Spectrum_Thu_Nov_10_2022_163555_290torr_2.sif\"\n",
    "spectrum_file_300torr=\"beamimages/Spectrum_Thu_Nov_10_2022_163646_300torr_2.sif\"\n",
    "\n",
    "image_230torr, spectrum_230torr = get_data(spectrum_file_230torr)\n",
    "image_240torr, spectrum_240torr = get_data(spectrum_file_240torr)\n",
    "image_250torr, spectrum_250torr = get_data(spectrum_file_250torr)\n",
    "image_270torr, spectrum_270torr = get_data(spectrum_file_270torr)\n",
    "image_280torr, spectrum_280torr = get_data(spectrum_file_280torr)\n",
    "image_290torr, spectrum_290torr = get_data(spectrum_file_290torr)\n",
    "image_300torr, spectrum_300torr = get_data(spectrum_file_300torr)\n",
    "\n",
    "pressure_array = np.array([spectrum_230torr,\n",
    "                           spectrum_240torr,\n",
    "                           spectrum_250torr,\n",
    "                           spectrum_270torr,\n",
    "                           spectrum_280torr,\n",
    "                           spectrum_290torr,\n",
    "                           spectrum_300torr])"
   ]
  },
  {
   "cell_type": "code",
   "execution_count": 7,
   "metadata": {},
   "outputs": [
    {
     "data": {
      "image/png": "[encoded data removed]",
      "text/plain": "<Figure size 360x144 with 2 Axes>"
     },
     "metadata": {
      "needs_background": "light",
      "transient": {}
     },
     "output_type": "display_data"
    }
   ],
   "source": [
    "plt.figure(figsize=(5,2))\n",
    "\n",
    "pressure_array = np.flip(pressure_array[:,200:], axis=1)\n",
    "\n",
    "plt.imshow(pressure_array, cmap=my_cmap, aspect=35)\n",
    "# plt.colorbar(fraction=0.04575, pad=0.04, label=\"Counts\")\n",
    "\n",
    "plt.yticks(np.arange(7), [\"230\", \"240\", \"250\", \"270\", \"280\", \"290\", \"300\"])\n",
    "plt.minorticks_off()\n",
    "plt.xlabel(\"Pixel\")\n",
    "plt.ylabel(\"Ar pressure (torr)\")\n",
    "plt.colorbar(fraction=0.0145, pad=0.02, label=\"Counts\")\n",
    "\n",
    "plt.savefig(\"figures/pressurescan.jpg\", dpi=800)\n",
    "\n",
    "plt.show()"
   ]
  },
  {
   "cell_type": "code",
   "execution_count": null,
   "metadata": {},
   "outputs": [],
   "source": []
  }
 ],
 "metadata": {
  "kernelspec": {
   "display_name": "Python 3.8.5 64-bit ('base': conda)",
   "metadata": {
    "interpreter": {
     "hash": "cd321f69a71e1ea19e7b67e578a74e5a82c2a231556a7090cfe7c0e45726c8e2"
    }
   },
   "name": "python3"
  },
  "language_info": {
   "codemirror_mode": {
    "name": "ipython",
    "version": 3
   },
   "file_extension": ".py",
   "mimetype": "text/x-python",
   "name": "python",
   "nbconvert_exporter": "python",
   "pygments_lexer": "ipython3",
   "version": "3.8.5"
  },
  "orig_nbformat": 2
 },
 "nbformat": 4,
 "nbformat_minor": 2
}